{
 "cells": [
  {
   "cell_type": "code",
   "execution_count": null,
   "id": "901dbc12-256b-480e-bd89-82f3b9d38944",
   "metadata": {},
   "outputs": [],
   "source": [
    "# Please show the rows in the dataframe where 'Week Day' is equal to 'Wednesday' and 'Entertainment' is equal to 0"
   ]
  },
  {
   "cell_type": "code",
   "execution_count": null,
   "id": "f530d3a0-47d3-443f-9d1f-d118ddad4803",
   "metadata": {},
   "outputs": [],
   "source": [
    "# Please show the index names in the dataframe where 'Productivity' is greater than 15"
   ]
  },
  {
   "cell_type": "code",
   "execution_count": null,
   "id": "9aaafe92-2c01-499d-bda4-4aef4b7a0e34",
   "metadata": {},
   "outputs": [],
   "source": [
    "# Please show the Week Day names in the dataframe where 'Productivity' is greater than 15"
   ]
  },
  {
   "cell_type": "code",
   "execution_count": null,
   "id": "4af18b4f-4bb5-409b-af9a-5640c0fcd1a6",
   "metadata": {},
   "outputs": [],
   "source": [
    "# Show the Rows with minimum Productivity"
   ]
  },
  {
   "cell_type": "code",
   "execution_count": null,
   "id": "ed5b407c-9b2b-4dd2-ac6e-c46e233fe4da",
   "metadata": {},
   "outputs": [],
   "source": [
    "# Show the Rows with maximum 'Total Screen Time '"
   ]
  },
  {
   "cell_type": "code",
   "execution_count": null,
   "id": "1443040f-da49-42c7-83bc-871af562ebc3",
   "metadata": {},
   "outputs": [],
   "source": [
    "# Please show the index names, Week Day and Social Networking in the dataframe where 'Productivity' is greater than 15"
   ]
  }
 ],
 "metadata": {
  "kernelspec": {
   "display_name": "Python 3 (ipykernel)",
   "language": "python",
   "name": "python3"
  },
  "language_info": {
   "codemirror_mode": {
    "name": "ipython",
    "version": 3
   },
   "file_extension": ".py",
   "mimetype": "text/x-python",
   "name": "python",
   "nbconvert_exporter": "python",
   "pygments_lexer": "ipython3",
   "version": "3.8.10"
  }
 },
 "nbformat": 4,
 "nbformat_minor": 5
}
