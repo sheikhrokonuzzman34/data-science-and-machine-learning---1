{
 "cells": [
  {
   "cell_type": "code",
   "execution_count": 1,
   "id": "bc8620f2-b58f-4c79-81a4-b0015385037a",
   "metadata": {},
   "outputs": [],
   "source": [
    "import pandas as pd"
   ]
  },
  {
   "cell_type": "code",
   "execution_count": 2,
   "id": "98e024c3-1c97-46b4-a19b-dd9e26e770e5",
   "metadata": {},
   "outputs": [
    {
     "data": {
      "text/plain": [
       "[1, 2, 3, 4]"
      ]
     },
     "execution_count": 2,
     "metadata": {},
     "output_type": "execute_result"
    }
   ],
   "source": [
    "list = [1,2,3,4]\n",
    "list"
   ]
  },
  {
   "cell_type": "code",
   "execution_count": 3,
   "id": "62480451-89f8-4eb8-b7e9-421bae4e3d15",
   "metadata": {},
   "outputs": [
    {
     "data": {
      "text/plain": [
       "0    1\n",
       "1    2\n",
       "2    3\n",
       "3    4\n",
       "dtype: int64"
      ]
     },
     "execution_count": 3,
     "metadata": {},
     "output_type": "execute_result"
    }
   ],
   "source": [
    "x = pd.Series(list)\n",
    "x"
   ]
  },
  {
   "cell_type": "code",
   "execution_count": 4,
   "id": "5bc05bfb-e228-4514-a33b-3542ac435594",
   "metadata": {},
   "outputs": [
    {
     "name": "stdout",
     "output_type": "stream",
     "text": [
      "1\n"
     ]
    }
   ],
   "source": [
    "print(x[0])"
   ]
  },
  {
   "cell_type": "code",
   "execution_count": 5,
   "id": "8834a628-9251-4908-8141-de8a0ed6fa97",
   "metadata": {},
   "outputs": [
    {
     "data": {
      "text/html": [
       "<div>\n",
       "<style scoped>\n",
       "    .dataframe tbody tr th:only-of-type {\n",
       "        vertical-align: middle;\n",
       "    }\n",
       "\n",
       "    .dataframe tbody tr th {\n",
       "        vertical-align: top;\n",
       "    }\n",
       "\n",
       "    .dataframe thead th {\n",
       "        text-align: right;\n",
       "    }\n",
       "</style>\n",
       "<table border=\"1\" class=\"dataframe\">\n",
       "  <thead>\n",
       "    <tr style=\"text-align: right;\">\n",
       "      <th></th>\n",
       "      <th>number</th>\n",
       "    </tr>\n",
       "  </thead>\n",
       "  <tbody>\n",
       "    <tr>\n",
       "      <th>0</th>\n",
       "      <td>1</td>\n",
       "    </tr>\n",
       "    <tr>\n",
       "      <th>1</th>\n",
       "      <td>2</td>\n",
       "    </tr>\n",
       "    <tr>\n",
       "      <th>2</th>\n",
       "      <td>3</td>\n",
       "    </tr>\n",
       "    <tr>\n",
       "      <th>3</th>\n",
       "      <td>4</td>\n",
       "    </tr>\n",
       "  </tbody>\n",
       "</table>\n",
       "</div>"
      ],
      "text/plain": [
       "   number\n",
       "0       1\n",
       "1       2\n",
       "2       3\n",
       "3       4"
      ]
     },
     "execution_count": 5,
     "metadata": {},
     "output_type": "execute_result"
    }
   ],
   "source": [
    "y = pd.DataFrame(x,columns= [ 'number'])\n",
    "y"
   ]
  },
  {
   "cell_type": "code",
   "execution_count": 6,
   "id": "e42cb5b4-8a71-471e-8e5b-c496dbd45f84",
   "metadata": {},
   "outputs": [
    {
     "data": {
      "text/plain": [
       "0    1\n",
       "1    2\n",
       "2    3\n",
       "3    4\n",
       "Name: number, dtype: int64"
      ]
     },
     "execution_count": 6,
     "metadata": {},
     "output_type": "execute_result"
    }
   ],
   "source": [
    "se = y[\"number\"]\n",
    "se"
   ]
  },
  {
   "cell_type": "code",
   "execution_count": 7,
   "id": "1d40a00c-32d6-4779-b00c-7711cde4f846",
   "metadata": {},
   "outputs": [
    {
     "name": "stdout",
     "output_type": "stream",
     "text": [
      "   calories  duration\n",
      "0       420        50\n",
      "1       380        40\n",
      "2       390        45\n"
     ]
    }
   ],
   "source": [
    "data = {\n",
    "  \"calories\": [420, 380, 390],\n",
    "  \"duration\": [50, 40, 45]\n",
    "}\n",
    "\n",
    "#load data into a DataFrame object:\n",
    "df = pd.DataFrame(data)\n",
    "\n",
    "print(df) "
   ]
  },
  {
   "cell_type": "code",
   "execution_count": 8,
   "id": "ff447275-fb46-41a4-9644-3ae1ca517c2a",
   "metadata": {},
   "outputs": [
    {
     "ename": "SyntaxError",
     "evalue": "invalid syntax (199137734.py, line 2)",
     "output_type": "error",
     "traceback": [
      "\u001b[1;36m  Cell \u001b[1;32mIn[8], line 2\u001b[1;36m\u001b[0m\n\u001b[1;33m    \"brand\": \"Ford\",\"Ford1\",\"Ford\",\u001b[0m\n\u001b[1;37m                           ^\u001b[0m\n\u001b[1;31mSyntaxError\u001b[0m\u001b[1;31m:\u001b[0m invalid syntax\n"
     ]
    }
   ],
   "source": [
    "thisdict = {\n",
    "  \"brand\": \"Ford\",\"Ford1\",\"Ford\",\n",
    "  \"model\": \"Mustang\",\"Ford1\",\"Ford\",\n",
    "  \"year\": 1964,\"Ford1\",\"Ford\",\n",
    "}\n",
    "\n",
    "thisdict"
   ]
  },
  {
   "cell_type": "code",
   "execution_count": null,
   "id": "9a2233e9-e953-4beb-8ed8-025fcdb6f9af",
   "metadata": {},
   "outputs": [],
   "source": [
    "s_d = pd.Series(thisdict['brand'],name='brand' )\n",
    "s_d"
   ]
  },
  {
   "cell_type": "code",
   "execution_count": null,
   "id": "ec33d3c2-e0bf-47db-be1c-2b8e3f831656",
   "metadata": {},
   "outputs": [],
   "source": [
    "df = pd.DataFrame([thisdict])\n",
    "df"
   ]
  },
  {
   "cell_type": "code",
   "execution_count": null,
   "id": "e55665e9-2b81-4e01-b45b-c68061a0ffe6",
   "metadata": {},
   "outputs": [],
   "source": [
    "thisdict = {\n",
    "    'brand': ['Ford', 'Chevrolet'],\n",
    "    'model': ['Mustang', 'Camaro'],\n",
    "    'year': [1964, 1967]\n",
    "}\n",
    "\n",
    "# Convert dictionary to DataFrame\n",
    "df = pd.DataFrame(thisdict)\n",
    "df"
   ]
  },
  {
   "cell_type": "code",
   "execution_count": null,
   "id": "f04b59f5-1f67-48ce-82c8-188f571c6362",
   "metadata": {},
   "outputs": [],
   "source": [
    "age_se = df['brand']\n",
    "age_se"
   ]
  },
  {
   "cell_type": "code",
   "execution_count": null,
   "id": "5e19f017-7320-4e6a-9ab6-0382127c7be1",
   "metadata": {},
   "outputs": [],
   "source": [
    "data = { 'age': [25,26,30,50,60,40,60,80,10,20,],\n",
    "        'salary':[500000,1000000,20000,300000,50000,600000,70000,200000,15000,15000]\n",
    "    \n",
    "}\n",
    "type(data)"
   ]
  },
  {
   "cell_type": "code",
   "execution_count": null,
   "id": "34f63ed0-7240-4fac-aade-b218e7105d80",
   "metadata": {},
   "outputs": [],
   "source": [
    "\n",
    "df = pd.DataFrame(data)\n",
    "print(df)"
   ]
  },
  {
   "cell_type": "code",
   "execution_count": null,
   "id": "01c8d65a-5885-45fe-8fbf-74dcc36073de",
   "metadata": {},
   "outputs": [],
   "source": [
    "df.info()"
   ]
  },
  {
   "cell_type": "code",
   "execution_count": null,
   "id": "5b7981ca-2a08-41ff-b7fe-df25c41652bb",
   "metadata": {},
   "outputs": [],
   "source": [
    "df['age'] = df['age'].astype('int16')\n",
    "df['salary'] = df['salary'].astype('int16')\n",
    "df"
   ]
  },
  {
   "cell_type": "code",
   "execution_count": null,
   "id": "fb7b7d22-3206-4e5b-989e-047d926066ce",
   "metadata": {},
   "outputs": [],
   "source": [
    "df.info()"
   ]
  },
  {
   "cell_type": "code",
   "execution_count": null,
   "id": "0a82b638-2416-45d0-8ee8-a1553115fe5f",
   "metadata": {},
   "outputs": [],
   "source": [
    "data = {\n",
    "    'date': [\n",
    "        '2024-07-01', \n",
    "        '2024-07-02', \n",
    "        '2024-07-03', \n",
    "        '2024-07-04'\n",
    "    ],\n",
    "    'event': ['Event A', 'Event B', 'Event C', 'Event D'],\n",
    "    'salary':['500000 errors','1000000 errors',20000,300000]\n",
    "    \n",
    "}\n",
    "\n",
    "# Convert the 'date' column to datetime\n",
    "df = pd.DataFrame(data)\n",
    "df"
   ]
  },
  {
   "cell_type": "code",
   "execution_count": null,
   "id": "7680d673-087d-4d33-b6b8-a74f9a41ff6b",
   "metadata": {},
   "outputs": [],
   "source": [
    "(df.dtypes)"
   ]
  },
  {
   "cell_type": "code",
   "execution_count": null,
   "id": "1d837475-a2a4-4eb0-aff9-5c28806e9231",
   "metadata": {},
   "outputs": [],
   "source": [
    "df = pd.DataFrame(data)\n",
    "df['date'] = pd.to_datetime(df['date'])\n",
    "df.dtypes"
   ]
  },
  {
   "cell_type": "code",
   "execution_count": null,
   "id": "3398c3fa-6fd3-4b6c-a25b-382e2fd9c34b",
   "metadata": {},
   "outputs": [],
   "source": [
    "df = pd.read_excel('student_data.xlsx',sheet_name='Sheet1')\n",
    "df"
   ]
  },
  {
   "cell_type": "code",
   "execution_count": null,
   "id": "64720c74-412b-45eb-990d-17c73d0d326b",
   "metadata": {},
   "outputs": [],
   "source": [
    "df = pd.read_csv('Certificate.csv',sep=',')\n",
    "df"
   ]
  },
  {
   "cell_type": "code",
   "execution_count": null,
   "id": "3971a68d-7234-422b-96dc-c19dc79ddada",
   "metadata": {},
   "outputs": [],
   "source": [
    "url = 'https://raw.githubusercontent.com/rashakil-ds/5-Minutes-to-Pandas/main/Datasets/bike.csv'\n",
    "df = pd.read_csv(url)\n",
    "df.tail(10)"
   ]
  },
  {
   "cell_type": "code",
   "execution_count": null,
   "id": "6fbc31e9-e51f-4225-a82a-77eb5f22c7c7",
   "metadata": {},
   "outputs": [],
   "source": []
  },
  {
   "cell_type": "code",
   "execution_count": null,
   "id": "0ee7075a-10b1-4d55-80a5-f912f493a898",
   "metadata": {},
   "outputs": [],
   "source": [
    "df.columns"
   ]
  },
  {
   "cell_type": "code",
   "execution_count": null,
   "id": "809bebd6-24e4-448f-ae44-850802b30902",
   "metadata": {},
   "outputs": [],
   "source": [
    "type(df[['instant']])"
   ]
  },
  {
   "cell_type": "code",
   "execution_count": null,
   "id": "07637146-cbdc-4588-a09c-6d14fb4fbf2e",
   "metadata": {},
   "outputs": [],
   "source": []
  },
  {
   "cell_type": "code",
   "execution_count": null,
   "id": "1cc0ea8f-a5aa-4380-ae43-e0abea1225d2",
   "metadata": {},
   "outputs": [],
   "source": [
    "url = ('https://raw.githubusercontent.com/rashakil-ds/Public-Datasets/main/Bank%20Data.csv')\n",
    "df = pd.read_csv(url)\n",
    "df"
   ]
  },
  {
   "cell_type": "code",
   "execution_count": null,
   "id": "c8f8172f-7263-4b9a-a416-61eb7f94fd9c",
   "metadata": {},
   "outputs": [],
   "source": [
    "df.shape"
   ]
  },
  {
   "cell_type": "code",
   "execution_count": null,
   "id": "0b7a1493-a0ff-4020-b5b5-78ed23f6df9e",
   "metadata": {},
   "outputs": [],
   "source": [
    "df.info()"
   ]
  },
  {
   "cell_type": "code",
   "execution_count": null,
   "id": "64090671-0eee-49e7-9d13-c264ce1abc8b",
   "metadata": {},
   "outputs": [],
   "source": [
    "df.columns"
   ]
  },
  {
   "cell_type": "code",
   "execution_count": null,
   "id": "6ffee4f6-3d99-450f-94b8-233b58170d12",
   "metadata": {},
   "outputs": [],
   "source": [
    "df['Annual_Income'].max()"
   ]
  },
  {
   "cell_type": "code",
   "execution_count": null,
   "id": "0d853020-a173-4168-80dc-ad4314eb6725",
   "metadata": {},
   "outputs": [],
   "source": [
    "df['Annual_Income'].min()"
   ]
  },
  {
   "cell_type": "code",
   "execution_count": null,
   "id": "c8a6d19f-958b-4731-b382-b707f28cfc11",
   "metadata": {},
   "outputs": [],
   "source": [
    "#df[\"Annual_Income\"].mean()\n",
    "df['Annual_Income'] = pd.to_numeric(df['Annual_Income'], errors='coerce')\n",
    "df = df.dropna(subset=['Annual_Income'])\n",
    "mean_income = df['Annual_Income'].mean()\n",
    "mean_income"
   ]
  },
  {
   "cell_type": "code",
   "execution_count": null,
   "id": "e7b0347e-7ab0-4a23-8ccd-edca70ad432f",
   "metadata": {},
   "outputs": [],
   "source": [
    "income = df['Annual_Income'].std()\n",
    "income"
   ]
  },
  {
   "cell_type": "code",
   "execution_count": null,
   "id": "9f7f7598-48f5-445d-9d0f-4b7a64b8afca",
   "metadata": {},
   "outputs": [],
   "source": [
    "income = df['Annual_Income'].mode()\n",
    "income"
   ]
  },
  {
   "cell_type": "code",
   "execution_count": null,
   "id": "1b17079c-a536-4c84-a652-f20e8b79b9bb",
   "metadata": {},
   "outputs": [],
   "source": [
    "income = df['Annual_Income'].value_counts()\n",
    "income"
   ]
  },
  {
   "cell_type": "code",
   "execution_count": null,
   "id": "7ce70d88-2a61-47d8-8f32-f4ebd08c3e80",
   "metadata": {},
   "outputs": [],
   "source": [
    "#25%\n",
    "income = df['Annual_Income'].quantile(0.25)\n",
    "income"
   ]
  },
  {
   "cell_type": "code",
   "execution_count": null,
   "id": "0f0da645-9e93-4888-b761-88fba528c6f6",
   "metadata": {},
   "outputs": [],
   "source": [
    "#100%\n",
    "income = df['Annual_Income'].quantile(1)\n",
    "income"
   ]
  },
  {
   "cell_type": "code",
   "execution_count": null,
   "id": "7acb4c44-5148-4c55-ad18-71d13cae15ab",
   "metadata": {},
   "outputs": [],
   "source": [
    "\n",
    "income = df['Annual_Income'].describe()\n",
    "income"
   ]
  },
  {
   "cell_type": "code",
   "execution_count": 9,
   "id": "d1a396e7-f212-43df-801f-9724ee9b4ee2",
   "metadata": {},
   "outputs": [
    {
     "data": {
      "text/plain": [
       "Index(['index', 'Date', 'Week Day', 'Total Screen Time ', 'Social Networking',\n",
       "       'Reading and Reference', 'Other', 'Productivity', 'Health and Fitness',\n",
       "       'Entertainment', 'Creativity', 'Yoga'],\n",
       "      dtype='object')"
      ]
     },
     "execution_count": 9,
     "metadata": {},
     "output_type": "execute_result"
    }
   ],
   "source": [
    "import pandas as pd\n",
    "url = ('https://raw.githubusercontent.com/rashakil-ds/5-Minutes-to-Pandas/main/Datasets/Screen%20Time%20Data.csv')\n",
    "df = pd.read_csv(url)\n",
    "df.columns"
   ]
  },
  {
   "cell_type": "code",
   "execution_count": 10,
   "id": "ad20da0d-2502-44d1-aead-f534d1d1352c",
   "metadata": {},
   "outputs": [
    {
     "data": {
      "text/plain": [
       "8      25\n",
       "25     28\n",
       "17     34\n",
       "4      35\n",
       "26     37\n",
       "13     40\n",
       "27     41\n",
       "11     42\n",
       "22     42\n",
       "12     46\n",
       "24     49\n",
       "2      52\n",
       "21     53\n",
       "6      56\n",
       "15     60\n",
       "16     64\n",
       "5      68\n",
       "3      69\n",
       "20     70\n",
       "10     75\n",
       "9      76\n",
       "1      78\n",
       "19     81\n",
       "0      89\n",
       "14     90\n",
       "23     93\n",
       "7      98\n",
       "18    109\n",
       "Name: Social Networking, dtype: int64"
      ]
     },
     "execution_count": 10,
     "metadata": {},
     "output_type": "execute_result"
    }
   ],
   "source": [
    "sort_v = df['Social Networking'].sort_values()\n",
    "sort_v"
   ]
  },
  {
   "cell_type": "code",
   "execution_count": null,
   "id": "e8dceca1-4454-454b-8868-f710785656c6",
   "metadata": {},
   "outputs": [],
   "source": [
    "sort_v = df['Social Networking'].sort_values(ascending=False)\n",
    "sort_v"
   ]
  },
  {
   "cell_type": "code",
   "execution_count": null,
   "id": "ea8b98e8-cc59-473c-91de-005b6f52dcc2",
   "metadata": {},
   "outputs": [],
   "source": [
    "# largest data show any sect columns\n",
    "data_show=df.nlargest(5,'Social Networking')\n",
    "data_show"
   ]
  },
  {
   "cell_type": "code",
   "execution_count": 11,
   "id": "f2e876bd-b463-4b3b-806c-c44343756afe",
   "metadata": {},
   "outputs": [
    {
     "data": {
      "text/html": [
       "<div>\n",
       "<style scoped>\n",
       "    .dataframe tbody tr th:only-of-type {\n",
       "        vertical-align: middle;\n",
       "    }\n",
       "\n",
       "    .dataframe tbody tr th {\n",
       "        vertical-align: top;\n",
       "    }\n",
       "\n",
       "    .dataframe thead th {\n",
       "        text-align: right;\n",
       "    }\n",
       "</style>\n",
       "<table border=\"1\" class=\"dataframe\">\n",
       "  <thead>\n",
       "    <tr style=\"text-align: right;\">\n",
       "      <th></th>\n",
       "      <th>index</th>\n",
       "      <th>Date</th>\n",
       "      <th>Week Day</th>\n",
       "      <th>Total Screen Time</th>\n",
       "      <th>Social Networking</th>\n",
       "      <th>Reading and Reference</th>\n",
       "      <th>Other</th>\n",
       "      <th>Productivity</th>\n",
       "      <th>Health and Fitness</th>\n",
       "      <th>Entertainment</th>\n",
       "      <th>Creativity</th>\n",
       "      <th>Yoga</th>\n",
       "    </tr>\n",
       "  </thead>\n",
       "  <tbody>\n",
       "    <tr>\n",
       "      <th>8</th>\n",
       "      <td>8</td>\n",
       "      <td>04/25/19</td>\n",
       "      <td>Thursday</td>\n",
       "      <td>52</td>\n",
       "      <td>25</td>\n",
       "      <td>7</td>\n",
       "      <td>3</td>\n",
       "      <td>16</td>\n",
       "      <td>0</td>\n",
       "      <td>0</td>\n",
       "      <td>0</td>\n",
       "      <td>0</td>\n",
       "    </tr>\n",
       "    <tr>\n",
       "      <th>25</th>\n",
       "      <td>25</td>\n",
       "      <td>05/12/19</td>\n",
       "      <td>Sunday</td>\n",
       "      <td>52</td>\n",
       "      <td>28</td>\n",
       "      <td>1</td>\n",
       "      <td>1</td>\n",
       "      <td>6</td>\n",
       "      <td>0</td>\n",
       "      <td>0</td>\n",
       "      <td>1</td>\n",
       "      <td>1</td>\n",
       "    </tr>\n",
       "    <tr>\n",
       "      <th>17</th>\n",
       "      <td>17</td>\n",
       "      <td>05/04/19</td>\n",
       "      <td>Saturday</td>\n",
       "      <td>58</td>\n",
       "      <td>34</td>\n",
       "      <td>4</td>\n",
       "      <td>5</td>\n",
       "      <td>3</td>\n",
       "      <td>0</td>\n",
       "      <td>1</td>\n",
       "      <td>0</td>\n",
       "      <td>1</td>\n",
       "    </tr>\n",
       "    <tr>\n",
       "      <th>4</th>\n",
       "      <td>4</td>\n",
       "      <td>04/21/19</td>\n",
       "      <td>Sunday</td>\n",
       "      <td>56</td>\n",
       "      <td>35</td>\n",
       "      <td>2</td>\n",
       "      <td>43</td>\n",
       "      <td>3</td>\n",
       "      <td>0</td>\n",
       "      <td>1</td>\n",
       "      <td>1</td>\n",
       "      <td>0</td>\n",
       "    </tr>\n",
       "    <tr>\n",
       "      <th>26</th>\n",
       "      <td>26</td>\n",
       "      <td>05/13/19</td>\n",
       "      <td>Monday</td>\n",
       "      <td>61</td>\n",
       "      <td>37</td>\n",
       "      <td>1</td>\n",
       "      <td>0</td>\n",
       "      <td>4</td>\n",
       "      <td>0</td>\n",
       "      <td>0</td>\n",
       "      <td>0</td>\n",
       "      <td>1</td>\n",
       "    </tr>\n",
       "  </tbody>\n",
       "</table>\n",
       "</div>"
      ],
      "text/plain": [
       "    index      Date  Week Day  Total Screen Time   Social Networking  \\\n",
       "8       8  04/25/19  Thursday                  52                 25   \n",
       "25     25  05/12/19    Sunday                  52                 28   \n",
       "17     17  05/04/19  Saturday                  58                 34   \n",
       "4       4  04/21/19    Sunday                  56                 35   \n",
       "26     26  05/13/19    Monday                  61                 37   \n",
       "\n",
       "    Reading and Reference  Other  Productivity  Health and Fitness  \\\n",
       "8                       7      3            16                   0   \n",
       "25                      1      1             6                   0   \n",
       "17                      4      5             3                   0   \n",
       "4                       2     43             3                   0   \n",
       "26                      1      0             4                   0   \n",
       "\n",
       "    Entertainment  Creativity  Yoga  \n",
       "8               0           0     0  \n",
       "25              0           1     1  \n",
       "17              1           0     1  \n",
       "4               1           1     0  \n",
       "26              0           0     1  "
      ]
     },
     "execution_count": 11,
     "metadata": {},
     "output_type": "execute_result"
    }
   ],
   "source": [
    "# largest data show any sect columns\n",
    "data_show=df.nsmallest(5,'Social Networking')\n",
    "data_show"
   ]
  },
  {
   "cell_type": "code",
   "execution_count": null,
   "id": "9ca8c427-3ac9-4529-b35f-99282a0d0e59",
   "metadata": {},
   "outputs": [],
   "source": [
    "# conditions return \n",
    "df['Social Networking'] > 70"
   ]
  },
  {
   "cell_type": "code",
   "execution_count": null,
   "id": "c436a572-f418-4d70-bff2-8f2320c4742a",
   "metadata": {},
   "outputs": [],
   "source": [
    "df[df['Social Networking'] > 70]\n"
   ]
  },
  {
   "cell_type": "code",
   "execution_count": 12,
   "id": "f213ce0b-5be3-4e91-9ea3-4f56342c6b15",
   "metadata": {},
   "outputs": [
    {
     "data": {
      "text/html": [
       "<div>\n",
       "<style scoped>\n",
       "    .dataframe tbody tr th:only-of-type {\n",
       "        vertical-align: middle;\n",
       "    }\n",
       "\n",
       "    .dataframe tbody tr th {\n",
       "        vertical-align: top;\n",
       "    }\n",
       "\n",
       "    .dataframe thead th {\n",
       "        text-align: right;\n",
       "    }\n",
       "</style>\n",
       "<table border=\"1\" class=\"dataframe\">\n",
       "  <thead>\n",
       "    <tr style=\"text-align: right;\">\n",
       "      <th></th>\n",
       "      <th>index</th>\n",
       "      <th>Date</th>\n",
       "      <th>Week Day</th>\n",
       "      <th>Total Screen Time</th>\n",
       "      <th>Social Networking</th>\n",
       "      <th>Reading and Reference</th>\n",
       "      <th>Other</th>\n",
       "      <th>Productivity</th>\n",
       "      <th>Health and Fitness</th>\n",
       "      <th>Entertainment</th>\n",
       "      <th>Creativity</th>\n",
       "      <th>Yoga</th>\n",
       "    </tr>\n",
       "  </thead>\n",
       "  <tbody>\n",
       "    <tr>\n",
       "      <th>3</th>\n",
       "      <td>3</td>\n",
       "      <td>04/20/19</td>\n",
       "      <td>Saturday</td>\n",
       "      <td>101</td>\n",
       "      <td>69</td>\n",
       "      <td>9</td>\n",
       "      <td>38</td>\n",
       "      <td>2</td>\n",
       "      <td>0</td>\n",
       "      <td>3</td>\n",
       "      <td>0</td>\n",
       "      <td>0</td>\n",
       "    </tr>\n",
       "    <tr>\n",
       "      <th>10</th>\n",
       "      <td>10</td>\n",
       "      <td>04/27/19</td>\n",
       "      <td>Saturday</td>\n",
       "      <td>116</td>\n",
       "      <td>75</td>\n",
       "      <td>10</td>\n",
       "      <td>20</td>\n",
       "      <td>5</td>\n",
       "      <td>0</td>\n",
       "      <td>0</td>\n",
       "      <td>0</td>\n",
       "      <td>0</td>\n",
       "    </tr>\n",
       "    <tr>\n",
       "      <th>17</th>\n",
       "      <td>17</td>\n",
       "      <td>05/04/19</td>\n",
       "      <td>Saturday</td>\n",
       "      <td>58</td>\n",
       "      <td>34</td>\n",
       "      <td>4</td>\n",
       "      <td>5</td>\n",
       "      <td>3</td>\n",
       "      <td>0</td>\n",
       "      <td>1</td>\n",
       "      <td>0</td>\n",
       "      <td>1</td>\n",
       "    </tr>\n",
       "    <tr>\n",
       "      <th>24</th>\n",
       "      <td>24</td>\n",
       "      <td>05/11/19</td>\n",
       "      <td>Saturday</td>\n",
       "      <td>58</td>\n",
       "      <td>49</td>\n",
       "      <td>1</td>\n",
       "      <td>2</td>\n",
       "      <td>2</td>\n",
       "      <td>0</td>\n",
       "      <td>0</td>\n",
       "      <td>2</td>\n",
       "      <td>1</td>\n",
       "    </tr>\n",
       "  </tbody>\n",
       "</table>\n",
       "</div>"
      ],
      "text/plain": [
       "    index      Date  Week Day  Total Screen Time   Social Networking  \\\n",
       "3       3  04/20/19  Saturday                 101                 69   \n",
       "10     10  04/27/19  Saturday                 116                 75   \n",
       "17     17  05/04/19  Saturday                  58                 34   \n",
       "24     24  05/11/19  Saturday                  58                 49   \n",
       "\n",
       "    Reading and Reference  Other  Productivity  Health and Fitness  \\\n",
       "3                       9     38             2                   0   \n",
       "10                     10     20             5                   0   \n",
       "17                      4      5             3                   0   \n",
       "24                      1      2             2                   0   \n",
       "\n",
       "    Entertainment  Creativity  Yoga  \n",
       "3               3           0     0  \n",
       "10              0           0     0  \n",
       "17              1           0     1  \n",
       "24              0           2     1  "
      ]
     },
     "execution_count": 12,
     "metadata": {},
     "output_type": "execute_result"
    }
   ],
   "source": [
    "# Subseeting Row\n",
    "\n",
    "df[df['Week Day'] == 'Saturday' ]"
   ]
  },
  {
   "cell_type": "code",
   "execution_count": 15,
   "id": "95d5dfbf-c543-4e61-a201-1f876d466ca6",
   "metadata": {},
   "outputs": [
    {
     "data": {
      "text/html": [
       "<div>\n",
       "<style scoped>\n",
       "    .dataframe tbody tr th:only-of-type {\n",
       "        vertical-align: middle;\n",
       "    }\n",
       "\n",
       "    .dataframe tbody tr th {\n",
       "        vertical-align: top;\n",
       "    }\n",
       "\n",
       "    .dataframe thead th {\n",
       "        text-align: right;\n",
       "    }\n",
       "</style>\n",
       "<table border=\"1\" class=\"dataframe\">\n",
       "  <thead>\n",
       "    <tr style=\"text-align: right;\">\n",
       "      <th></th>\n",
       "      <th>index</th>\n",
       "      <th>Date</th>\n",
       "      <th>Week Day</th>\n",
       "      <th>Total Screen Time</th>\n",
       "      <th>Social Networking</th>\n",
       "      <th>Reading and Reference</th>\n",
       "      <th>Other</th>\n",
       "      <th>Productivity</th>\n",
       "      <th>Health and Fitness</th>\n",
       "      <th>Entertainment</th>\n",
       "      <th>Creativity</th>\n",
       "      <th>Yoga</th>\n",
       "    </tr>\n",
       "  </thead>\n",
       "  <tbody>\n",
       "    <tr>\n",
       "      <th>3</th>\n",
       "      <td>3</td>\n",
       "      <td>04/20/19</td>\n",
       "      <td>Saturday</td>\n",
       "      <td>101</td>\n",
       "      <td>69</td>\n",
       "      <td>9</td>\n",
       "      <td>38</td>\n",
       "      <td>2</td>\n",
       "      <td>0</td>\n",
       "      <td>3</td>\n",
       "      <td>0</td>\n",
       "      <td>0</td>\n",
       "    </tr>\n",
       "    <tr>\n",
       "      <th>4</th>\n",
       "      <td>4</td>\n",
       "      <td>04/21/19</td>\n",
       "      <td>Sunday</td>\n",
       "      <td>56</td>\n",
       "      <td>35</td>\n",
       "      <td>2</td>\n",
       "      <td>43</td>\n",
       "      <td>3</td>\n",
       "      <td>0</td>\n",
       "      <td>1</td>\n",
       "      <td>1</td>\n",
       "      <td>0</td>\n",
       "    </tr>\n",
       "    <tr>\n",
       "      <th>10</th>\n",
       "      <td>10</td>\n",
       "      <td>04/27/19</td>\n",
       "      <td>Saturday</td>\n",
       "      <td>116</td>\n",
       "      <td>75</td>\n",
       "      <td>10</td>\n",
       "      <td>20</td>\n",
       "      <td>5</td>\n",
       "      <td>0</td>\n",
       "      <td>0</td>\n",
       "      <td>0</td>\n",
       "      <td>0</td>\n",
       "    </tr>\n",
       "    <tr>\n",
       "      <th>11</th>\n",
       "      <td>11</td>\n",
       "      <td>04/28/19</td>\n",
       "      <td>Sunday</td>\n",
       "      <td>85</td>\n",
       "      <td>42</td>\n",
       "      <td>22</td>\n",
       "      <td>4</td>\n",
       "      <td>2</td>\n",
       "      <td>0</td>\n",
       "      <td>0</td>\n",
       "      <td>0</td>\n",
       "      <td>0</td>\n",
       "    </tr>\n",
       "    <tr>\n",
       "      <th>17</th>\n",
       "      <td>17</td>\n",
       "      <td>05/04/19</td>\n",
       "      <td>Saturday</td>\n",
       "      <td>58</td>\n",
       "      <td>34</td>\n",
       "      <td>4</td>\n",
       "      <td>5</td>\n",
       "      <td>3</td>\n",
       "      <td>0</td>\n",
       "      <td>1</td>\n",
       "      <td>0</td>\n",
       "      <td>1</td>\n",
       "    </tr>\n",
       "    <tr>\n",
       "      <th>18</th>\n",
       "      <td>18</td>\n",
       "      <td>05/05/19</td>\n",
       "      <td>Sunday</td>\n",
       "      <td>133</td>\n",
       "      <td>109</td>\n",
       "      <td>5</td>\n",
       "      <td>1</td>\n",
       "      <td>3</td>\n",
       "      <td>0</td>\n",
       "      <td>0</td>\n",
       "      <td>0</td>\n",
       "      <td>1</td>\n",
       "    </tr>\n",
       "    <tr>\n",
       "      <th>24</th>\n",
       "      <td>24</td>\n",
       "      <td>05/11/19</td>\n",
       "      <td>Saturday</td>\n",
       "      <td>58</td>\n",
       "      <td>49</td>\n",
       "      <td>1</td>\n",
       "      <td>2</td>\n",
       "      <td>2</td>\n",
       "      <td>0</td>\n",
       "      <td>0</td>\n",
       "      <td>2</td>\n",
       "      <td>1</td>\n",
       "    </tr>\n",
       "    <tr>\n",
       "      <th>25</th>\n",
       "      <td>25</td>\n",
       "      <td>05/12/19</td>\n",
       "      <td>Sunday</td>\n",
       "      <td>52</td>\n",
       "      <td>28</td>\n",
       "      <td>1</td>\n",
       "      <td>1</td>\n",
       "      <td>6</td>\n",
       "      <td>0</td>\n",
       "      <td>0</td>\n",
       "      <td>1</td>\n",
       "      <td>1</td>\n",
       "    </tr>\n",
       "  </tbody>\n",
       "</table>\n",
       "</div>"
      ],
      "text/plain": [
       "    index      Date  Week Day  Total Screen Time   Social Networking  \\\n",
       "3       3  04/20/19  Saturday                 101                 69   \n",
       "4       4  04/21/19    Sunday                  56                 35   \n",
       "10     10  04/27/19  Saturday                 116                 75   \n",
       "11     11  04/28/19    Sunday                  85                 42   \n",
       "17     17  05/04/19  Saturday                  58                 34   \n",
       "18     18  05/05/19    Sunday                 133                109   \n",
       "24     24  05/11/19  Saturday                  58                 49   \n",
       "25     25  05/12/19    Sunday                  52                 28   \n",
       "\n",
       "    Reading and Reference  Other  Productivity  Health and Fitness  \\\n",
       "3                       9     38             2                   0   \n",
       "4                       2     43             3                   0   \n",
       "10                     10     20             5                   0   \n",
       "11                     22      4             2                   0   \n",
       "17                      4      5             3                   0   \n",
       "18                      5      1             3                   0   \n",
       "24                      1      2             2                   0   \n",
       "25                      1      1             6                   0   \n",
       "\n",
       "    Entertainment  Creativity  Yoga  \n",
       "3               3           0     0  \n",
       "4               1           1     0  \n",
       "10              0           0     0  \n",
       "11              0           0     0  \n",
       "17              1           0     1  \n",
       "18              0           0     1  \n",
       "24              0           2     1  \n",
       "25              0           1     1  "
      ]
     },
     "execution_count": 15,
     "metadata": {},
     "output_type": "execute_result"
    }
   ],
   "source": [
    "# Subseeting Row\n",
    "df[(df['Week Day'] == 'Saturday') | (df['Week Day'] == 'Sunday') ]"
   ]
  },
  {
   "cell_type": "code",
   "execution_count": 18,
   "id": "216b83a5-276e-4aab-83aa-dbf044d08f52",
   "metadata": {},
   "outputs": [
    {
     "data": {
      "text/html": [
       "<div>\n",
       "<style scoped>\n",
       "    .dataframe tbody tr th:only-of-type {\n",
       "        vertical-align: middle;\n",
       "    }\n",
       "\n",
       "    .dataframe tbody tr th {\n",
       "        vertical-align: top;\n",
       "    }\n",
       "\n",
       "    .dataframe thead th {\n",
       "        text-align: right;\n",
       "    }\n",
       "</style>\n",
       "<table border=\"1\" class=\"dataframe\">\n",
       "  <thead>\n",
       "    <tr style=\"text-align: right;\">\n",
       "      <th></th>\n",
       "      <th>index</th>\n",
       "      <th>Date</th>\n",
       "      <th>Week Day</th>\n",
       "      <th>Total Screen Time</th>\n",
       "      <th>Social Networking</th>\n",
       "      <th>Reading and Reference</th>\n",
       "      <th>Other</th>\n",
       "      <th>Productivity</th>\n",
       "      <th>Health and Fitness</th>\n",
       "      <th>Entertainment</th>\n",
       "      <th>Creativity</th>\n",
       "      <th>Yoga</th>\n",
       "    </tr>\n",
       "  </thead>\n",
       "  <tbody>\n",
       "    <tr>\n",
       "      <th>3</th>\n",
       "      <td>3</td>\n",
       "      <td>04/20/19</td>\n",
       "      <td>Saturday</td>\n",
       "      <td>101</td>\n",
       "      <td>69</td>\n",
       "      <td>9</td>\n",
       "      <td>38</td>\n",
       "      <td>2</td>\n",
       "      <td>0</td>\n",
       "      <td>3</td>\n",
       "      <td>0</td>\n",
       "      <td>0</td>\n",
       "    </tr>\n",
       "    <tr>\n",
       "      <th>4</th>\n",
       "      <td>4</td>\n",
       "      <td>04/21/19</td>\n",
       "      <td>Sunday</td>\n",
       "      <td>56</td>\n",
       "      <td>35</td>\n",
       "      <td>2</td>\n",
       "      <td>43</td>\n",
       "      <td>3</td>\n",
       "      <td>0</td>\n",
       "      <td>1</td>\n",
       "      <td>1</td>\n",
       "      <td>0</td>\n",
       "    </tr>\n",
       "    <tr>\n",
       "      <th>10</th>\n",
       "      <td>10</td>\n",
       "      <td>04/27/19</td>\n",
       "      <td>Saturday</td>\n",
       "      <td>116</td>\n",
       "      <td>75</td>\n",
       "      <td>10</td>\n",
       "      <td>20</td>\n",
       "      <td>5</td>\n",
       "      <td>0</td>\n",
       "      <td>0</td>\n",
       "      <td>0</td>\n",
       "      <td>0</td>\n",
       "    </tr>\n",
       "    <tr>\n",
       "      <th>11</th>\n",
       "      <td>11</td>\n",
       "      <td>04/28/19</td>\n",
       "      <td>Sunday</td>\n",
       "      <td>85</td>\n",
       "      <td>42</td>\n",
       "      <td>22</td>\n",
       "      <td>4</td>\n",
       "      <td>2</td>\n",
       "      <td>0</td>\n",
       "      <td>0</td>\n",
       "      <td>0</td>\n",
       "      <td>0</td>\n",
       "    </tr>\n",
       "    <tr>\n",
       "      <th>17</th>\n",
       "      <td>17</td>\n",
       "      <td>05/04/19</td>\n",
       "      <td>Saturday</td>\n",
       "      <td>58</td>\n",
       "      <td>34</td>\n",
       "      <td>4</td>\n",
       "      <td>5</td>\n",
       "      <td>3</td>\n",
       "      <td>0</td>\n",
       "      <td>1</td>\n",
       "      <td>0</td>\n",
       "      <td>1</td>\n",
       "    </tr>\n",
       "    <tr>\n",
       "      <th>18</th>\n",
       "      <td>18</td>\n",
       "      <td>05/05/19</td>\n",
       "      <td>Sunday</td>\n",
       "      <td>133</td>\n",
       "      <td>109</td>\n",
       "      <td>5</td>\n",
       "      <td>1</td>\n",
       "      <td>3</td>\n",
       "      <td>0</td>\n",
       "      <td>0</td>\n",
       "      <td>0</td>\n",
       "      <td>1</td>\n",
       "    </tr>\n",
       "    <tr>\n",
       "      <th>24</th>\n",
       "      <td>24</td>\n",
       "      <td>05/11/19</td>\n",
       "      <td>Saturday</td>\n",
       "      <td>58</td>\n",
       "      <td>49</td>\n",
       "      <td>1</td>\n",
       "      <td>2</td>\n",
       "      <td>2</td>\n",
       "      <td>0</td>\n",
       "      <td>0</td>\n",
       "      <td>2</td>\n",
       "      <td>1</td>\n",
       "    </tr>\n",
       "    <tr>\n",
       "      <th>25</th>\n",
       "      <td>25</td>\n",
       "      <td>05/12/19</td>\n",
       "      <td>Sunday</td>\n",
       "      <td>52</td>\n",
       "      <td>28</td>\n",
       "      <td>1</td>\n",
       "      <td>1</td>\n",
       "      <td>6</td>\n",
       "      <td>0</td>\n",
       "      <td>0</td>\n",
       "      <td>1</td>\n",
       "      <td>1</td>\n",
       "    </tr>\n",
       "  </tbody>\n",
       "</table>\n",
       "</div>"
      ],
      "text/plain": [
       "    index      Date  Week Day  Total Screen Time   Social Networking  \\\n",
       "3       3  04/20/19  Saturday                 101                 69   \n",
       "4       4  04/21/19    Sunday                  56                 35   \n",
       "10     10  04/27/19  Saturday                 116                 75   \n",
       "11     11  04/28/19    Sunday                  85                 42   \n",
       "17     17  05/04/19  Saturday                  58                 34   \n",
       "18     18  05/05/19    Sunday                 133                109   \n",
       "24     24  05/11/19  Saturday                  58                 49   \n",
       "25     25  05/12/19    Sunday                  52                 28   \n",
       "\n",
       "    Reading and Reference  Other  Productivity  Health and Fitness  \\\n",
       "3                       9     38             2                   0   \n",
       "4                       2     43             3                   0   \n",
       "10                     10     20             5                   0   \n",
       "11                     22      4             2                   0   \n",
       "17                      4      5             3                   0   \n",
       "18                      5      1             3                   0   \n",
       "24                      1      2             2                   0   \n",
       "25                      1      1             6                   0   \n",
       "\n",
       "    Entertainment  Creativity  Yoga  \n",
       "3               3           0     0  \n",
       "4               1           1     0  \n",
       "10              0           0     0  \n",
       "11              0           0     0  \n",
       "17              1           0     1  \n",
       "18              0           0     1  \n",
       "24              0           2     1  \n",
       "25              0           1     1  "
      ]
     },
     "execution_count": 18,
     "metadata": {},
     "output_type": "execute_result"
    }
   ],
   "source": [
    "# Subseeting Row used in isin()\n",
    "df[df['Week Day'].isin(['Saturday','Sunday'])]"
   ]
  },
  {
   "cell_type": "code",
   "execution_count": null,
   "id": "89042533-2bf9-460c-84dd-37897dff6617",
   "metadata": {},
   "outputs": [],
   "source": []
  }
 ],
 "metadata": {
  "kernelspec": {
   "display_name": "Python 3 (ipykernel)",
   "language": "python",
   "name": "python3"
  },
  "language_info": {
   "codemirror_mode": {
    "name": "ipython",
    "version": 3
   },
   "file_extension": ".py",
   "mimetype": "text/x-python",
   "name": "python",
   "nbconvert_exporter": "python",
   "pygments_lexer": "ipython3",
   "version": "3.8.10"
  }
 },
 "nbformat": 4,
 "nbformat_minor": 5
}
